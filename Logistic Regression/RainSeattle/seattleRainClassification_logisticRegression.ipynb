{
 "cells": [
  {
   "cell_type": "code",
   "execution_count": 11,
   "metadata": {
    "collapsed": false
   },
   "outputs": [
    {
     "name": "stdout",
     "output_type": "stream",
     "text": [
      "Training Accuracy\n",
      "Cost 0.2423589520144161\n",
      "DataMean 44.4795172863666\n",
      "Accuracy 99.45512234214668 %\n",
      "----------------------\n",
      "CrossValidation Accuracy\n",
      "Cost 0.24252423507449494\n",
      "DataMean 44.608610567514674\n",
      "Accuracy 99.45632865048007 %\n",
      "----------------------\n",
      "Testing Accuracy\n",
      "Cost 0.2441815452645711\n",
      "DataMean 44.523967912345924\n",
      "Accuracy 99.45157281187227 %\n"
     ]
    }
   ],
   "source": [
    "import pandas as pd\n",
    "import numpy as np \n",
    "import random\n",
    "from sklearn.utils import shuffle \n",
    "\n",
    "\n",
    "mainData = pd.DataFrame(pd.read_csv(\"seattleWeather_1948-2017.csv\"))\n",
    "# mainData = mainData.sample(frac=1).reset_index(drop=True)\n",
    "mainData = shuffle(mainData)\n",
    "train,cv,test = np.split(mainData,[int(0.6*len(mainData)),int(0.8*len(mainData))])\n",
    "\n",
    "#Features:\n",
    "feature = train['TMIN']\n",
    "# feature = feature/max(feature)\n",
    "label = train['RAIN']\n",
    "cvFeature = cv['TMIN']\n",
    "# cvFeature = cvFeature/max(cvFeature)\n",
    "cvLabel = cv['RAIN']\n",
    "testFeature = test['TMIN']\n",
    "# testFeature = testFeature/max(testFeature)\n",
    "testLabel = test['RAIN']\n",
    "\n",
    "\n",
    "label = label.replace([False,True],[0,1])\n",
    "testLabel = testLabel.replace([False,True],[0,1])\n",
    "cvLabel = cvLabel.replace([False,True],[0,1])\n",
    "\n",
    "weights = 1\n",
    "\n",
    "def sigmoid(weights,x):\n",
    "    return (1/(1+np.exp(-(weights*x))))\n",
    "\n",
    "def cost(weights,x,y):\n",
    "    return np.mean((sigmoid(x,weights)-y)**2)\n",
    "\n",
    "def derivative(weights,x,y):\n",
    "    return np.mean((sigmoid(weights,x)-y)*x)\n",
    "\n",
    "def gradientDescent(iterations,learningRate):\n",
    "    global feature,label\n",
    "    weightsOld = 1\n",
    "    weightsNew = 0\n",
    "    for i in range(0,iterations):\n",
    "        weightsNew = weightsOld - learningRate*derivative(weightsOld,feature,label)\n",
    "#         print(\"weightsOld:\",weightsOld,\"weightsNew:\",weightsNew)\n",
    "#         print(\"Subtract\",(weightsOld-weightsNew))\n",
    "        weightsOld = weightsNew\n",
    "    return weightsOld\n",
    "\n",
    "def test(weights,x,y):\n",
    "    mse = cost(weights,x,y)\n",
    "    accuracy = 100 - ((mse/np.mean(x))*100)\n",
    "    print(\"Cost\",mse)\n",
    "    print(\"DataMean\",np.mean(x))\n",
    "    print(\"Accuracy\",accuracy,\"%\")\n",
    "    \n",
    "    \n",
    "def testDiscrete(weights,x,y):\n",
    "    answers = []\n",
    "    correct = 0\n",
    "    for i in range(0,len(x)):\n",
    "        pro = cost(weights,x.iloc[i],y.iloc[i])\n",
    "        print(pro)\n",
    "        if(pro>0.5 ):\n",
    "            answers.append(1)\n",
    "        else:\n",
    "            answers.append(0)\n",
    "    for i in range(0,len(answers)):\n",
    "        if(answers[i]==testLabel.iloc[i]):\n",
    "            correct = correct+1\n",
    "            \n",
    "    print(\"Answers\",answers)\n",
    "    print(\"Accuracy:\",((correct/len(answers))*100))\n",
    "\n",
    "#Learning Variables:\n",
    "iterations = 500\n",
    "lr = 0.001\n",
    "learnedweightss = gradientDescent(iterations,lr)\n",
    "\n",
    "#Testing:\n",
    "print(\"Training Accuracy\")\n",
    "test(learnedweightss,feature,label)\n",
    "print(\"----------------------\")\n",
    "print(\"CrossValidation Accuracy\")\n",
    "test(learnedweightss,cvFeature,cvLabel)\n",
    "print(\"----------------------\")\n",
    "print(\"Testing Accuracy\")\n",
    "test(learnedweightss,testFeature,testLabel)\n",
    "# print(\"Result Discrete Testing\")\n",
    "# testDiscrete(learnedweightss,testFeature,testLabel)\n",
    "\n",
    "    \n",
    "    \n"
   ]
  },
  {
   "cell_type": "code",
   "execution_count": 10,
   "metadata": {
    "collapsed": false
   },
   "outputs": [],
   "source": [
    "import matplotlib.pyplot as plt\n",
    "#Plotting Sigmoid:\n",
    "sig = []\n",
    "\n",
    "for i in range(0,len(testFeature)):\n",
    "    sig.append(1/(1+np.exp((-1)*(testFeature.iloc[i]**1)*learnedweightss)))\n",
    "\n",
    "plt.scatter(testFeature,sig)\n",
    "plt.scatter(testFeature,testLabel,color='red')  \n",
    "plt.show()"
   ]
  },
  {
   "cell_type": "code",
   "execution_count": null,
   "metadata": {
    "collapsed": true
   },
   "outputs": [],
   "source": []
  }
 ],
 "metadata": {
  "kernelspec": {
   "display_name": "Python 3",
   "language": "python",
   "name": "python3"
  },
  "language_info": {
   "codemirror_mode": {
    "name": "ipython",
    "version": 3
   },
   "file_extension": ".py",
   "mimetype": "text/x-python",
   "name": "python",
   "nbconvert_exporter": "python",
   "pygments_lexer": "ipython3",
   "version": "3.5.1"
  }
 },
 "nbformat": 4,
 "nbformat_minor": 0
}
