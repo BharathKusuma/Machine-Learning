{
 "cells": [
  {
   "cell_type": "code",
   "execution_count": 77,
   "metadata": {
    "collapsed": false,
    "scrolled": true
   },
   "outputs": [
    {
     "name": "stdout",
     "output_type": "stream",
     "text": [
      "Training Accuracy\n",
      "Cost 0.26732165567737937\n",
      "DataMean 0.741804425172845\n",
      "Accuracy 63.96332421243082 %\n",
      "----------------------\n",
      "CrossValidation Accuracy\n",
      "Cost 0.2650745759858619\n",
      "DataMean 0.7237913749112025\n",
      "Accuracy 63.37693634185924 %\n",
      "----------------------\n",
      "Testing Accuracy\n",
      "Cost 0.2701443771410043\n",
      "DataMean 0.7243349403735714\n",
      "Accuracy 62.70449455307527 %\n"
     ]
    }
   ],
   "source": [
    "import numpy as np\n",
    "import pandas as pd\n",
    "import matplotlib.pyplot as plt\n",
    "from sklearn.utils import shuffle \n",
    "\n",
    "mainData = pd.DataFrame(pd.read_csv(\"voice.csv\"))\n",
    "mainData = shuffle(mainData)\n",
    "train,cv,test = np.split(mainData,[int(0.6*len(mainData)),int(0.8*len(mainData))])\n",
    "feature = train['meanfreq']\n",
    "feature = feature/max(feature)\n",
    "label = train['label']\n",
    "cvFeature = cv['meanfreq']\n",
    "cvFeature = cvFeature/max(cvFeature)\n",
    "cvLabel = cv['label']\n",
    "testFeature = test['meanfreq']\n",
    "testFeature = testFeature/max(testFeature)\n",
    "testLabel = test['label']\n",
    "\n",
    "\n",
    "label = label.replace(['male','female'],[0,1])\n",
    "testLabel = testLabel.replace(['male','female'],[0,1])\n",
    "cvLabel = cvLabel.replace(['male','female'],[0,1])\n",
    "\n",
    "theta = 1\n",
    "\n",
    "def sigmoid(theta,x):\n",
    "    return (1/(1+np.exp(-(theta*x))))\n",
    "\n",
    "def cost(theta,x,y):\n",
    "    return np.mean((sigmoid(x,theta)-y)**2)\n",
    "\n",
    "def derivative(theta,x,y):\n",
    "    return np.mean((sigmoid(theta,x)-y)*x)\n",
    "\n",
    "def gradientDescent(iterations,learningRate):\n",
    "    global feature,label\n",
    "    thetaOld = 1\n",
    "    thetaNew = 0\n",
    "    for i in range(0,iterations):\n",
    "        thetaNew = thetaOld - learningRate*derivative(thetaOld,feature,label)\n",
    "#         print(\"ThetaOld:\",thetaOld,\"ThetaNew:\",thetaNew)\n",
    "#         print(\"Subtract\",(thetaOld-thetaNew))\n",
    "        thetaOld = thetaNew\n",
    "    return thetaOld\n",
    "\n",
    "def test(theta,x,y):\n",
    "    mse = cost(theta,x,y)\n",
    "    accuracy = 100 - ((mse/np.mean(x))*100)\n",
    "    print(\"Cost\",mse)\n",
    "    print(\"DataMean\",np.mean(x))\n",
    "    print(\"Accuracy\",accuracy,\"%\")\n",
    "    \n",
    "    \n",
    "def testDiscrete(theta,x,y):\n",
    "    answers = []\n",
    "    correct = 0\n",
    "    for i in range(0,len(x)):\n",
    "        pro = cost(theta,x.iloc[i],y.iloc[i])\n",
    "        print(pro)\n",
    "        if(pro>0.5):\n",
    "            answers.append(1)\n",
    "        else:\n",
    "            answers.append(0)\n",
    "    for i in range(0,len(answers)):\n",
    "        if(answers[i]==testLabel.iloc[i]):\n",
    "            correct = correct+1\n",
    "            \n",
    "    print(\"Answers\",answers)\n",
    "    print(\"Accuracy:\",((correct/len(answers))*100))\n",
    "\n",
    "#Learning Variables:\n",
    "iterations = 1000\n",
    "lr = 0.001\n",
    "learnedThetas = gradientDescent(iterations,lr)\n",
    "\n",
    "#Testing:\n",
    "print(\"Training Accuracy\")\n",
    "test(learnedThetas,feature,label)\n",
    "print(\"----------------------\")\n",
    "print(\"CrossValidation Accuracy\")\n",
    "test(learnedThetas,cvFeature,cvLabel)\n",
    "print(\"----------------------\")\n",
    "print(\"Testing Accuracy\")\n",
    "test(learnedThetas,testFeature,testLabel)\n",
    "# print(\"Result Discrete Testing\")\n",
    "# testDiscrete(learnedThetas,testFeature,testLabel)\n",
    "\n",
    "    \n",
    "    \n"
   ]
  },
  {
   "cell_type": "code",
   "execution_count": 80,
   "metadata": {
    "collapsed": false
   },
   "outputs": [],
   "source": [
    "import matplotlib.pyplot as plt\n",
    "#Plotting Sigmoid:\n",
    "sig = []\n",
    "\n",
    "for i in range(0,len(testFeature)):\n",
    "    sig.append(1/(1+np.exp((-1)*(testFeature.iloc[i])*learnedThetas)))\n",
    "\n",
    "plt.scatter(testFeature,sig)\n",
    "plt.scatter(testFeature,testLabel,color='red')  \n",
    "plt.show()"
   ]
  },
  {
   "cell_type": "code",
   "execution_count": 81,
   "metadata": {
    "collapsed": false
   },
   "outputs": [
    {
     "name": "stdout",
     "output_type": "stream",
     "text": [
      "8172.0\n"
     ]
    }
   ],
   "source": [
    "import numpy as np\n",
    "t = [8126,8611,7817,8172,8076,8848,8598]\n",
    "print(np.median(t))"
   ]
  }
 ],
 "metadata": {
  "kernelspec": {
   "display_name": "Python 3",
   "language": "python",
   "name": "python3"
  },
  "language_info": {
   "codemirror_mode": {
    "name": "ipython",
    "version": 3
   },
   "file_extension": ".py",
   "mimetype": "text/x-python",
   "name": "python",
   "nbconvert_exporter": "python",
   "pygments_lexer": "ipython3",
   "version": "3.5.1"
  }
 },
 "nbformat": 4,
 "nbformat_minor": 0
}
