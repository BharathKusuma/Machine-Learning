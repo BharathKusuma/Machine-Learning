{
 "cells": [
  {
   "cell_type": "markdown",
   "metadata": {},
   "source": [
    "# Spam Classifier using Bayes Theorem"
   ]
  },
  {
   "cell_type": "code",
   "execution_count": 2,
   "metadata": {
    "collapsed": false
   },
   "outputs": [
    {
     "name": "stdout",
     "output_type": "stream",
     "text": [
      "CPU times: user 1.22 s, sys: 168 ms, total: 1.39 s\n",
      "Wall time: 6.23 s\n"
     ]
    }
   ],
   "source": [
    "%%time\n",
    "import pandas as pd\n",
    "import numpy as np \n",
    "import string\n",
    "import re\n",
    "from collections import Counter\n",
    "import io\n",
    "import requests"
   ]
  },
  {
   "cell_type": "markdown",
   "metadata": {},
   "source": [
    "### Dataset from Kaggle"
   ]
  },
  {
   "cell_type": "code",
   "execution_count": null,
   "metadata": {
    "collapsed": true
   },
   "outputs": [],
   "source": [
    "mainData = pd.DataFrame(pd.read_csv('spamraw.csv'))"
   ]
  },
  {
   "cell_type": "markdown",
   "metadata": {},
   "source": [
    "This Data contains two columns\n",
    "Text and Type\n",
    "Text contains email/message and type contains its answer whether it is spam or ham"
   ]
  },
  {
   "cell_type": "code",
   "execution_count": 6,
   "metadata": {
    "collapsed": false
   },
   "outputs": [
    {
     "name": "stdout",
     "output_type": "stream",
     "text": [
      "type                                                  ham\n",
      "text    Hope you are having a good week. Just checking in\n",
      "Name: 0, dtype: object\n"
     ]
    }
   ],
   "source": [
    "print(mainData.iloc[0])"
   ]
  },
  {
   "cell_type": "code",
   "execution_count": 8,
   "metadata": {
    "collapsed": true
   },
   "outputs": [],
   "source": [
    "trainingData,testData = np.split(mainData,[int(0.7*len(mainData))])"
   ]
  },
  {
   "cell_type": "markdown",
   "metadata": {},
   "source": [
    "# Working on Training Data from here"
   ]
  },
  {
   "cell_type": "markdown",
   "metadata": {},
   "source": [
    "#### Seperating out Spam and Ham Data"
   ]
  },
  {
   "cell_type": "code",
   "execution_count": 9,
   "metadata": {
    "collapsed": true
   },
   "outputs": [],
   "source": [
    "spamTraining = trainingData[trainingData['type']=='spam']\n",
    "hamTraining = trainingData[trainingData['type']=='ham']"
   ]
  },
  {
   "cell_type": "markdown",
   "metadata": {
    "collapsed": true
   },
   "source": [
    "#### Then appending whole Spam text and Ham text into a single String\n",
    "Doing this will make it easier to calculate relative frequencies of all the words "
   ]
  },
  {
   "cell_type": "code",
   "execution_count": 10,
   "metadata": {
    "collapsed": false
   },
   "outputs": [],
   "source": [
    "wholeDataSpam = ''\n",
    "wholeDataHam = ''\n",
    "\n",
    "for i in range(0,len(spamTraining)):\n",
    "    temp = spamTraining['text'].iloc[i]\n",
    "    temp.lower()\n",
    "    temp = re.sub(r'[^\\w\\s]','',temp)\n",
    "    wholeDataSpam = wholeDataSpam + \" \" + temp\n",
    "    \n",
    "\n",
    "for i in range(0,len(hamTraining)):\n",
    "    temp = hamTraining['text'].iloc[i]\n",
    "    temp.lower()\n",
    "    temp = re.sub(r'[^\\w\\s]','',temp)\n",
    "    wholeDataHam = wholeDataHam + \" \" + temp\n",
    "\n"
   ]
  },
  {
   "cell_type": "markdown",
   "metadata": {},
   "source": [
    "#### Getting Relative Frequencies in Dictionary"
   ]
  },
  {
   "cell_type": "code",
   "execution_count": 11,
   "metadata": {
    "collapsed": false,
    "scrolled": true
   },
   "outputs": [],
   "source": [
    "spamFrequency = dict(Counter(wholeDataSpam.split()))\n",
    "hamFrequency = dict(Counter(wholeDataHam.split()))"
   ]
  },
  {
   "cell_type": "code",
   "execution_count": 12,
   "metadata": {
    "collapsed": false
   },
   "outputs": [],
   "source": [
    "spamValues = list(spamFrequency.values())\n",
    "hamValues = list(hamFrequency.values())\n",
    "hamKeys = list(hamFrequency.keys())\n",
    "spamKeys = list(spamFrequency.keys())\n",
    "spamValues = np.array(spamValues)\n",
    "spamValues  = spamValues/len(spamValues)\n",
    "hamValues = np.array(hamValues)\n",
    "hamValues = hamValues/len(hamValues)\n",
    "\n",
    "spamRF = dict(zip(spamKeys,spamValues))\n",
    "hamRF = dict(zip(hamKeys,hamValues))\n"
   ]
  },
  {
   "cell_type": "markdown",
   "metadata": {},
   "source": [
    "# Testing Area"
   ]
  },
  {
   "cell_type": "markdown",
   "metadata": {},
   "source": [
    "In this section I am calculating prior log likeilihood probabilities of Spam and Ham then using those in Bayes Rule Relation along with p(Spam) and p(Ham)\n",
    "This will give me probability whether an Email Message is Spam as well as Ham\n",
    "And then I am compairing both Probabilities and greater one is the answer."
   ]
  },
  {
   "cell_type": "code",
   "execution_count": 13,
   "metadata": {
    "collapsed": false
   },
   "outputs": [
    {
     "name": "stdout",
     "output_type": "stream",
     "text": [
      "=================================================\n",
      "Correct Answers:  1447 Out of: 1668\n",
      "=================================================\n",
      "=================================\n",
      "TestingAccuracy:  86.7505995203837 %\n",
      "=================================\n"
     ]
    }
   ],
   "source": [
    "priorProbabilitySpam = 0 \n",
    "priorProbabilityHam = 0\n",
    "answers = []\n",
    "correct = 0\n",
    "\n",
    "pSpam = np.log(len(spamTraining)/len(trainingData))\n",
    "pHam = np.log(len(hamTraining)/len(trainingData))\n",
    "\n",
    "for i in range(0,len(testData)):\n",
    "    temp = testData['text'].iloc[i]\n",
    "    temp = temp.lower()\n",
    "    temp = re.sub(r'[^\\w\\s]','',temp)\n",
    "    temp = temp.split()\n",
    "    \n",
    "    commonSpam = list(set(temp) & set(spamRF.keys()))\n",
    "    commonHam = list(set(temp) & set(hamRF.keys()))\n",
    "    \n",
    "    for k in range(0,len(commonSpam)):\n",
    "        priorProbabilitySpam = priorProbabilitySpam + np.log(spamRF[commonSpam[k]])\n",
    "    for a in range(0,len(commonHam)):\n",
    "        priorProbabilityHam = priorProbabilityHam + np.log(hamRF[commonHam[a]])\n",
    "        \n",
    "    finalBayesSpam = (priorProbabilitySpam*pSpam)/(pHam)\n",
    "    finalBayesHam = (priorProbabilityHam*pHam)/(pSpam)\n",
    "\n",
    "    \n",
    "    if(finalBayesSpam>finalBayesHam):\n",
    "        answers.append('spam')\n",
    "    else:\n",
    "        answers.append('ham')\n",
    "        \n",
    "        \n",
    "for i in range(0,len(answers)):\n",
    "    if(answers[i] == testData['type'].iloc[i]):\n",
    "        correct = correct+1\n",
    "        \n",
    "        \n",
    "print(\"=================================================\")\n",
    "print(\"Correct Answers: \",correct,\"Out of:\",len(answers))\n",
    "print(\"=================================================\")\n",
    "\n",
    "accuracy = (correct/len(answers))*100\n",
    "print(\"=================================\")\n",
    "print(\"TestingAccuracy: \",accuracy,\"%\")\n",
    "print(\"=================================\")\n"
   ]
  },
  {
   "cell_type": "code",
   "execution_count": null,
   "metadata": {
    "collapsed": true
   },
   "outputs": [],
   "source": [
    "\n"
   ]
  }
 ],
 "metadata": {
  "kernelspec": {
   "display_name": "Python 3",
   "language": "python",
   "name": "python3"
  },
  "language_info": {
   "codemirror_mode": {
    "name": "ipython",
    "version": 3
   },
   "file_extension": ".py",
   "mimetype": "text/x-python",
   "name": "python",
   "nbconvert_exporter": "python",
   "pygments_lexer": "ipython3",
   "version": "3.5.4"
  }
 },
 "nbformat": 4,
 "nbformat_minor": 0
}
