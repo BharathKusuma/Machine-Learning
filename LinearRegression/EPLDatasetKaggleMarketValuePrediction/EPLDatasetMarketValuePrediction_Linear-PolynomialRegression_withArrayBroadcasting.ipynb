{
 "cells": [
  {
   "cell_type": "code",
   "execution_count": 46,
   "metadata": {
    "collapsed": false
   },
   "outputs": [
    {
     "name": "stdout",
     "output_type": "stream",
     "text": [
      "0.96569686537\n",
      "0.0483591651315\n",
      "Accuracy:  52.0511302232 % 0.0783250802895 15.1916666667\n",
      "CPU times: user 4.77 s, sys: 328 ms, total: 5.1 s\n",
      "Wall time: 2h 3min 36s\n"
     ]
    }
   ],
   "source": [
    "\n",
    "%%time\n",
    "\n",
    "import pandas as pd\n",
    "import numpy as np\n",
    "import matplotlib.pyplot as plt\n",
    "import math\n",
    "\n",
    "\n",
    "mainData = pd.DataFrame(pd.read_csv(\"epldata_final.csv\"))\n",
    "trainData,testData  = np.split(mainData,[int(0.8*len(mainData))])\n",
    "\n",
    "\n",
    "#Selected Features:\n",
    "pageViewsTrain = np.array(trainData['page_views'])\n",
    "marketValueTrain = np.array(trainData['market_value'])\n",
    "pageViewsTest = np.array(testData['page_views'])\n",
    "marketValueTest = np.array(testData['market_value'])\n",
    "\n",
    "#Scaling Features:\n",
    "marketValueTrain = marketValueTrain*(1/max(marketValueTrain))\n",
    "pageViewsTrain = pageViewsTrain*(1/max(pageViewsTrain))\n",
    "marketValueTest = marketValueTest*(1/max(marketValueTest))\n",
    "pageViewsTest   = pageViewsTest*(1/max(pageViewsTest))\n",
    "m = np.random.randn(1,1)\n",
    "c = np.random.randn(1,1)\n",
    "def derivativeSlope(m,c):\n",
    "    global regParam\n",
    "    return sum(2/(len(pageViewsTrain))*((-1)*pageViewsTrain)*(marketValueTrain - (m*pageViewsTrain+c))) +  (1/len(pageViewsTrain)*regParam*slopeOld)\n",
    "    \n",
    "def derivativeIntercept(m,c):\n",
    "    global regParam\n",
    "    return sum(2/(len(pageViewsTrain))*((-1))*(marketValueTrain - (m*pageViewsTrain+c)))  +  (1/len(pageViewsTrain)*regParam*slopeOld)\n",
    "\n",
    "\n",
    "#Training (GradientDescent):\n",
    "slopeOld = 0\n",
    "slopeNew = 0\n",
    "interceptOld = 0\n",
    "interceptNew = 0\n",
    "learningRate = 0.5\n",
    "regParam = np.mean(pageViewsTrain)\n",
    "\n",
    "\n",
    "for x in range(0,3000):\n",
    "    slopeNew = slopeOld - learningRate*derivativeSlope(slopeOld,interceptOld)\n",
    "    interceptNew = interceptNew - learningRate*derivativeIntercept(slopeOld,interceptOld)\n",
    "    slopeOld = slopeNew\n",
    "    interceptOld = interceptNew\n",
    "    \n",
    "    \n",
    "print(slopeOld)\n",
    "print(interceptOld)\n",
    "\n",
    "\n",
    "#Testing on TestingData:\n",
    "\n",
    "slopeEstimate = slopeOld\n",
    "interceptEstimate = interceptOld\n",
    "error = []\n",
    "y = (slopeEstimate*pageViewsTest + interceptEstimate)\n",
    "meanSquaredError = abs(y - marketValueTest)\n",
    "meanSquaredError = np.mean(meanSquaredError)\n",
    "\n",
    "accuracy = 100 - 100*((meanSquaredError/np.mean(marketValueTest)))\n",
    "# accuracy *=100\n",
    "\n",
    "print(\"Accuracy: \",accuracy,\"%\",meanSquaredError,sum(marketValueTest))\n",
    "\n",
    "plt.scatter(marketValueTrain,pageViewsTrain)\n",
    "plt.show()"
   ]
  },
  {
   "cell_type": "code",
   "execution_count": null,
   "metadata": {
    "collapsed": true
   },
   "outputs": [],
   "source": []
  }
 ],
 "metadata": {
  "kernelspec": {
   "display_name": "Python 3",
   "language": "python",
   "name": "python3"
  },
  "language_info": {
   "codemirror_mode": {
    "name": "ipython",
    "version": 3
   },
   "file_extension": ".py",
   "mimetype": "text/x-python",
   "name": "python",
   "nbconvert_exporter": "python",
   "pygments_lexer": "ipython3",
   "version": "3.5.1"
  }
 },
 "nbformat": 4,
 "nbformat_minor": 0
}
