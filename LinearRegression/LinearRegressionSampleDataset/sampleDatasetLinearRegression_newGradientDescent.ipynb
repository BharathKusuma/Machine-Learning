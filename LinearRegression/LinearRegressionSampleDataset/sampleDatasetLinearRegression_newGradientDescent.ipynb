{
 "cells": [
  {
   "cell_type": "code",
   "execution_count": 1,
   "metadata": {
    "collapsed": false
   },
   "outputs": [
    {
     "name": "stdout",
     "output_type": "stream",
     "text": [
      "InterceptEstimate 0.967165334666\n",
      "SlopeEstimate 0.984559521314\n",
      "MeanErrors 2.47519331745\n",
      "FinalTestingAccuracy:  99.9838870498 %\n",
      "CPU times: user 7.94 s, sys: 244 ms, total: 8.18 s\n",
      "Wall time: 17.2 s\n"
     ]
    }
   ],
   "source": [
    "%%time\n",
    "\n",
    "import pandas as pd\n",
    "import numpy as np\n",
    "import math \n",
    "import random\n",
    "import matplotlib.pyplot as plt\n",
    "\n",
    "trainData = pd.DataFrame(pd.read_csv(\"train.csv\"))\n",
    "testData = pd.DataFrame(pd.read_csv(\"test.csv\"))\n",
    "\n",
    "xTrain = trainData['x']\n",
    "yTrain = trainData['y']\n",
    "xTest = testData['x']\n",
    "yTest = testData['y']\n",
    "add = 0\n",
    "def derivativeSlope(m,c):\n",
    "    global xTrain,yTrain,add\n",
    "    add = 0\n",
    "    for i in range(0,len(xTrain)):\n",
    "        if(i!=213):\n",
    "            add = add + (-2*xTrain[i]*(yTrain[i]-(m*xTrain[i]+c)))\n",
    "    return add/len(xTrain)\n",
    "\n",
    "def derivativeIntercept(m,c):\n",
    "    global xTrain,yTrain,add\n",
    "    add = 0\n",
    "    for i in range(0,len(xTrain)):\n",
    "        if(i!=213):\n",
    "            add = add + (-2*(yTrain[i]-(m*xTrain[i]+c)))\n",
    "    return add/len(xTrain)\n",
    "\n",
    "slopeOld = random.randrange(1,5)\n",
    "slopeNew = 0\n",
    "interceptOld = random.randrange(1,5)\n",
    "interceptNew = 0\n",
    "learningRate = 0.0001\n",
    "iterations = []\n",
    "\n",
    "# for i in range(0,50):\n",
    "for x in range(0,49):\n",
    "    slopeNew = slopeOld - learningRate*derivativeSlope(slopeOld,interceptOld)\n",
    "    interceptNew = interceptOld - learningRate*derivativeIntercept(slopeOld,interceptOld)\n",
    "    slopeOld = slopeNew\n",
    "    interceptOld = interceptNew\n",
    "    if(math.fabs(slopeOld-slopeNew)<1 and math.fabs(slopeOld-slopeNew)>0):\n",
    "        print(\"breaked\")\n",
    "        break\n",
    "\n",
    "\n",
    "\n",
    "estimatedSlope = slopeOld\n",
    "estimatedIntercept = interceptOld    \n",
    "print(\"InterceptEstimate\",estimatedIntercept)\n",
    "print(\"SlopeEstimate\",estimatedSlope)\n",
    "\n",
    "print(\"Heighest\",max(yTest))\n",
    "#Testing on TestData\n",
    "errors = []\n",
    "for i in range(0,len(testData)):\n",
    "    errors.append(math.fabs(yTest[i] - (estimatedSlope*xTest[i]+estimatedIntercept)))\n",
    "print(\"MeanErrors\",np.mean(errors))\n",
    "#     iterations.append(np.mean(errors))\n",
    "\n",
    "# print(\"Minimum\",min(iterations))\n",
    "# print(\"Iteration\",iterations.index(min(iterations)))\n",
    "\n",
    "#Calculating Accuracy:\n",
    "accuracy = (100 - ((np.mean(errors)/sum(yTest))*100))\n",
    "print(\"FinalTestingAccuracy: \",accuracy,\"%\")\n",
    "\n"
   ]
  },
  {
   "cell_type": "code",
   "execution_count": null,
   "metadata": {
    "collapsed": false
   },
   "outputs": [],
   "source": [
    "\n",
    "\n"
   ]
  }
 ],
 "metadata": {
  "kernelspec": {
   "display_name": "Python 3",
   "language": "python",
   "name": "python3"
  },
  "language_info": {
   "codemirror_mode": {
    "name": "ipython",
    "version": 3
   },
   "file_extension": ".py",
   "mimetype": "text/x-python",
   "name": "python",
   "nbconvert_exporter": "python",
   "pygments_lexer": "ipython3",
   "version": "3.5.1"
  }
 },
 "nbformat": 4,
 "nbformat_minor": 0
}
